{
 "cells": [
  {
   "cell_type": "markdown",
   "metadata": {},
   "source": [
    "# Data exploration\n",
    "We explore some elements of our dataset including\n",
    "* Number of parlement members\n",
    "* Party affiliations\n",
    "* Paid and unpaid interest groups\n"
   ]
  },
  {
   "cell_type": "code",
   "execution_count": 105,
   "metadata": {},
   "outputs": [],
   "source": [
    "import pandas as pd\n",
    "import matplotlib.pyplot as plt\n",
    "import pandas as pd\n",
    "import numpy as np\n",
    "from collections import Counter\n",
    "import plotly.graph_objects as go"
   ]
  },
  {
   "cell_type": "markdown",
   "metadata": {},
   "source": [
    "## Download and unzip the dataset"
   ]
  },
  {
   "cell_type": "markdown",
   "metadata": {},
   "source": [
    "Download json dataset from lobbywatch.ch"
   ]
  },
  {
   "cell_type": "code",
   "execution_count": 8,
   "metadata": {},
   "outputs": [
    {
     "name": "stdout",
     "output_type": "stream",
     "text": [
      "--2024-03-27 15:22:16--  https://cms.lobbywatch.ch/sites/lobbywatch.ch/files/exports/lobbywatch_export_aggregated.json.zip\n",
      "Resolving cms.lobbywatch.ch (cms.lobbywatch.ch)... 149.126.4.43, 2a01:ab20:0:4::43\n",
      "Connecting to cms.lobbywatch.ch (cms.lobbywatch.ch)|149.126.4.43|:443... connected.\n",
      "HTTP request sent, awaiting response... 200 OK\n",
      "Length: 14972817 (14M) [application/zip]\n",
      "Saving to: ‘lobbywatch_export_aggregated.json.zip’\n",
      "\n",
      "lobbywatch_export_a 100%[===================>]  14.28M  23.9MB/s    in 0.6s    \n",
      "\n",
      "2024-03-27 15:22:16 (23.9 MB/s) - ‘lobbywatch_export_aggregated.json.zip’ saved [14972817/14972817]\n",
      "\n",
      "Archive:  lobbywatch_export_aggregated.json.zip\n",
      "  inflating: data/lobbywatch_daten_merkblatt.pdf  \n",
      "  inflating: data/lobbywatch_datenmodell_simplified.pdf  \n",
      "  inflating: data/aggregated_essential_parlamentarier_nested.json  \n",
      "  inflating: data/aggregated_parlamentarier_nested.json  \n",
      "  inflating: data/export/docu/aggregated_essential_parlamentarier_nested.json.md  \n",
      "  inflating: data/export/docu/aggregated_parlamentarier_nested.json.md  \n"
     ]
    }
   ],
   "source": [
    "!mkdir data\n",
    "!wget https://cms.lobbywatch.ch/sites/lobbywatch.ch/files/exports/lobbywatch_export_aggregated.json.zip\n",
    "!unzip lobbywatch_export_aggregated.json.zip -d data\n",
    "!rm lobbywatch_export_aggregated.json.zip"
   ]
  },
  {
   "cell_type": "code",
   "execution_count": 10,
   "metadata": {},
   "outputs": [],
   "source": [
    "data_path = \"data/aggregated_parlamentarier_nested.json\""
   ]
  },
  {
   "cell_type": "markdown",
   "metadata": {},
   "source": [
    "### Open the data with pandas"
   ]
  },
  {
   "cell_type": "code",
   "execution_count": 11,
   "metadata": {},
   "outputs": [],
   "source": [
    "df = pd.read_json(data_path)"
   ]
  },
  {
   "cell_type": "code",
   "execution_count": 12,
   "metadata": {},
   "outputs": [
    {
     "data": {
      "text/html": [
       "<div>\n",
       "<style scoped>\n",
       "    .dataframe tbody tr th:only-of-type {\n",
       "        vertical-align: middle;\n",
       "    }\n",
       "\n",
       "    .dataframe tbody tr th {\n",
       "        vertical-align: top;\n",
       "    }\n",
       "\n",
       "    .dataframe thead th {\n",
       "        text-align: right;\n",
       "    }\n",
       "</style>\n",
       "<table border=\"1\" class=\"dataframe\">\n",
       "  <thead>\n",
       "    <tr style=\"text-align: right;\">\n",
       "      <th></th>\n",
       "      <th>anzeige_name</th>\n",
       "      <th>anzeige_name_de</th>\n",
       "      <th>anzeige_name_fr</th>\n",
       "      <th>name</th>\n",
       "      <th>name_de</th>\n",
       "      <th>name_fr</th>\n",
       "      <th>id</th>\n",
       "      <th>nachname</th>\n",
       "      <th>vorname</th>\n",
       "      <th>vorname_kurz</th>\n",
       "      <th>...</th>\n",
       "      <th>titel_de</th>\n",
       "      <th>titel_fr</th>\n",
       "      <th>parlamentarier_id</th>\n",
       "      <th>verguetungstransparenz_beurteilung_stichdatum</th>\n",
       "      <th>verguetungstransparenz_beurteilung</th>\n",
       "      <th>refreshed_date</th>\n",
       "      <th>in_kommission</th>\n",
       "      <th>parlamentarier_transparenz</th>\n",
       "      <th>interessenbindungen</th>\n",
       "      <th>zutrittsberechtigungen</th>\n",
       "    </tr>\n",
       "  </thead>\n",
       "  <tbody>\n",
       "    <tr>\n",
       "      <th>0</th>\n",
       "      <td>de Courten, Thomas</td>\n",
       "      <td>de Courten, Thomas</td>\n",
       "      <td>de Courten, Thomas</td>\n",
       "      <td>Thomas Jan de Courten</td>\n",
       "      <td>Thomas Jan de Courten</td>\n",
       "      <td>Thomas Jan de Courten</td>\n",
       "      <td>6</td>\n",
       "      <td>de Courten</td>\n",
       "      <td>Thomas</td>\n",
       "      <td>None</td>\n",
       "      <td>...</td>\n",
       "      <td>Nationalrat</td>\n",
       "      <td>Le Conseiller national</td>\n",
       "      <td>6</td>\n",
       "      <td>None</td>\n",
       "      <td>None</td>\n",
       "      <td>2024-03-27 02:31:29</td>\n",
       "      <td>[{'abkuerzung': 'GPK-N', 'abkuerzung_fr': 'CdG...</td>\n",
       "      <td>[{'id': 52, 'parlamentarier_id': 6, 'stichdatu...</td>\n",
       "      <td>[{'anzeige_name': '383, de Courten, Thomas, Ko...</td>\n",
       "      <td>[{'id': 1387, 'anzeige_name': 'Schalch, Lucas'...</td>\n",
       "    </tr>\n",
       "    <tr>\n",
       "      <th>1</th>\n",
       "      <td>Hess, Lorenz</td>\n",
       "      <td>Hess, Lorenz</td>\n",
       "      <td>Hess, Lorenz</td>\n",
       "      <td>Lorenz Linus Hess</td>\n",
       "      <td>Lorenz Linus Hess</td>\n",
       "      <td>Lorenz Linus Hess</td>\n",
       "      <td>11</td>\n",
       "      <td>Hess</td>\n",
       "      <td>Lorenz</td>\n",
       "      <td>None</td>\n",
       "      <td>...</td>\n",
       "      <td>Nationalrat</td>\n",
       "      <td>Le Conseiller national</td>\n",
       "      <td>11</td>\n",
       "      <td>2020-12-31</td>\n",
       "      <td>nein</td>\n",
       "      <td>2024-03-27 02:31:29</td>\n",
       "      <td>[{'abkuerzung': 'SGK-NR', 'abkuerzung_fr': 'CS...</td>\n",
       "      <td>[{'id': 121, 'parlamentarier_id': 11, 'stichda...</td>\n",
       "      <td>[{'anzeige_name': '73, Hess, Lorenz, GEWA, bei...</td>\n",
       "      <td>[{'id': 665, 'anzeige_name': 'Beutler, Nicole'...</td>\n",
       "    </tr>\n",
       "    <tr>\n",
       "      <th>2</th>\n",
       "      <td>Lohr, Christian</td>\n",
       "      <td>Lohr, Christian</td>\n",
       "      <td>Lohr, Christian</td>\n",
       "      <td>Christian Lohr</td>\n",
       "      <td>Christian Lohr</td>\n",
       "      <td>Christian Lohr</td>\n",
       "      <td>14</td>\n",
       "      <td>Lohr</td>\n",
       "      <td>Christian</td>\n",
       "      <td>None</td>\n",
       "      <td>...</td>\n",
       "      <td>Nationalrat</td>\n",
       "      <td>Le Conseiller national</td>\n",
       "      <td>14</td>\n",
       "      <td>None</td>\n",
       "      <td>None</td>\n",
       "      <td>2024-03-27 02:31:29</td>\n",
       "      <td>[{'abkuerzung': 'SGK-NR', 'abkuerzung_fr': 'CS...</td>\n",
       "      <td>[{'id': 142, 'parlamentarier_id': 14, 'stichda...</td>\n",
       "      <td>[{'anzeige_name': '5599, Lohr, Christian, Comp...</td>\n",
       "      <td>[]</td>\n",
       "    </tr>\n",
       "    <tr>\n",
       "      <th>3</th>\n",
       "      <td>Schneeberger, Daniela</td>\n",
       "      <td>Schneeberger, Daniela</td>\n",
       "      <td>Schneeberger, Daniela</td>\n",
       "      <td>Daniela Schneeberger</td>\n",
       "      <td>Daniela Schneeberger</td>\n",
       "      <td>Daniela Schneeberger</td>\n",
       "      <td>21</td>\n",
       "      <td>Schneeberger</td>\n",
       "      <td>Daniela</td>\n",
       "      <td>None</td>\n",
       "      <td>...</td>\n",
       "      <td>Nationalrätin</td>\n",
       "      <td>La Conseillère nationale</td>\n",
       "      <td>21</td>\n",
       "      <td>None</td>\n",
       "      <td>None</td>\n",
       "      <td>2024-03-27 02:31:29</td>\n",
       "      <td>[{'abkuerzung': 'WAK-NR', 'abkuerzung_fr': 'CE...</td>\n",
       "      <td>[{'id': 211, 'parlamentarier_id': 21, 'stichda...</td>\n",
       "      <td>[{'anzeige_name': '7150, Schneeberger, Daniela...</td>\n",
       "      <td>[{'id': 627, 'anzeige_name': 'Jenni-Lincoln, V...</td>\n",
       "    </tr>\n",
       "    <tr>\n",
       "      <th>4</th>\n",
       "      <td>Aebischer, Matthias</td>\n",
       "      <td>Aebischer, Matthias</td>\n",
       "      <td>Aebischer, Matthias</td>\n",
       "      <td>Matthias Aebischer</td>\n",
       "      <td>Matthias Aebischer</td>\n",
       "      <td>Matthias Aebischer</td>\n",
       "      <td>40</td>\n",
       "      <td>Aebischer</td>\n",
       "      <td>Matthias</td>\n",
       "      <td>None</td>\n",
       "      <td>...</td>\n",
       "      <td>Nationalrat</td>\n",
       "      <td>Le Conseiller national</td>\n",
       "      <td>40</td>\n",
       "      <td>None</td>\n",
       "      <td>None</td>\n",
       "      <td>2024-03-27 02:31:29</td>\n",
       "      <td>[{'abkuerzung': 'WBK-NR', 'abkuerzung_fr': 'CS...</td>\n",
       "      <td>[{'id': 4, 'parlamentarier_id': 40, 'stichdatu...</td>\n",
       "      <td>[{'anzeige_name': '13102, Aebischer, Matthias,...</td>\n",
       "      <td>[{'id': 63, 'anzeige_name': 'Bütikofer, Etienn...</td>\n",
       "    </tr>\n",
       "  </tbody>\n",
       "</table>\n",
       "<p>5 rows × 117 columns</p>\n",
       "</div>"
      ],
      "text/plain": [
       "            anzeige_name        anzeige_name_de        anzeige_name_fr  \\\n",
       "0     de Courten, Thomas     de Courten, Thomas     de Courten, Thomas   \n",
       "1           Hess, Lorenz           Hess, Lorenz           Hess, Lorenz   \n",
       "2        Lohr, Christian        Lohr, Christian        Lohr, Christian   \n",
       "3  Schneeberger, Daniela  Schneeberger, Daniela  Schneeberger, Daniela   \n",
       "4    Aebischer, Matthias    Aebischer, Matthias    Aebischer, Matthias   \n",
       "\n",
       "                    name                name_de                name_fr  id  \\\n",
       "0  Thomas Jan de Courten  Thomas Jan de Courten  Thomas Jan de Courten   6   \n",
       "1      Lorenz Linus Hess      Lorenz Linus Hess      Lorenz Linus Hess  11   \n",
       "2         Christian Lohr         Christian Lohr         Christian Lohr  14   \n",
       "3   Daniela Schneeberger   Daniela Schneeberger   Daniela Schneeberger  21   \n",
       "4     Matthias Aebischer     Matthias Aebischer     Matthias Aebischer  40   \n",
       "\n",
       "       nachname    vorname vorname_kurz  ...       titel_de  \\\n",
       "0    de Courten     Thomas         None  ...    Nationalrat   \n",
       "1          Hess     Lorenz         None  ...    Nationalrat   \n",
       "2          Lohr  Christian         None  ...    Nationalrat   \n",
       "3  Schneeberger    Daniela         None  ...  Nationalrätin   \n",
       "4     Aebischer   Matthias         None  ...    Nationalrat   \n",
       "\n",
       "                   titel_fr  parlamentarier_id  \\\n",
       "0    Le Conseiller national                  6   \n",
       "1    Le Conseiller national                 11   \n",
       "2    Le Conseiller national                 14   \n",
       "3  La Conseillère nationale                 21   \n",
       "4    Le Conseiller national                 40   \n",
       "\n",
       "   verguetungstransparenz_beurteilung_stichdatum  \\\n",
       "0                                           None   \n",
       "1                                     2020-12-31   \n",
       "2                                           None   \n",
       "3                                           None   \n",
       "4                                           None   \n",
       "\n",
       "  verguetungstransparenz_beurteilung       refreshed_date  \\\n",
       "0                               None  2024-03-27 02:31:29   \n",
       "1                               nein  2024-03-27 02:31:29   \n",
       "2                               None  2024-03-27 02:31:29   \n",
       "3                               None  2024-03-27 02:31:29   \n",
       "4                               None  2024-03-27 02:31:29   \n",
       "\n",
       "                                       in_kommission  \\\n",
       "0  [{'abkuerzung': 'GPK-N', 'abkuerzung_fr': 'CdG...   \n",
       "1  [{'abkuerzung': 'SGK-NR', 'abkuerzung_fr': 'CS...   \n",
       "2  [{'abkuerzung': 'SGK-NR', 'abkuerzung_fr': 'CS...   \n",
       "3  [{'abkuerzung': 'WAK-NR', 'abkuerzung_fr': 'CE...   \n",
       "4  [{'abkuerzung': 'WBK-NR', 'abkuerzung_fr': 'CS...   \n",
       "\n",
       "                          parlamentarier_transparenz  \\\n",
       "0  [{'id': 52, 'parlamentarier_id': 6, 'stichdatu...   \n",
       "1  [{'id': 121, 'parlamentarier_id': 11, 'stichda...   \n",
       "2  [{'id': 142, 'parlamentarier_id': 14, 'stichda...   \n",
       "3  [{'id': 211, 'parlamentarier_id': 21, 'stichda...   \n",
       "4  [{'id': 4, 'parlamentarier_id': 40, 'stichdatu...   \n",
       "\n",
       "                                 interessenbindungen  \\\n",
       "0  [{'anzeige_name': '383, de Courten, Thomas, Ko...   \n",
       "1  [{'anzeige_name': '73, Hess, Lorenz, GEWA, bei...   \n",
       "2  [{'anzeige_name': '5599, Lohr, Christian, Comp...   \n",
       "3  [{'anzeige_name': '7150, Schneeberger, Daniela...   \n",
       "4  [{'anzeige_name': '13102, Aebischer, Matthias,...   \n",
       "\n",
       "                              zutrittsberechtigungen  \n",
       "0  [{'id': 1387, 'anzeige_name': 'Schalch, Lucas'...  \n",
       "1  [{'id': 665, 'anzeige_name': 'Beutler, Nicole'...  \n",
       "2                                                 []  \n",
       "3  [{'id': 627, 'anzeige_name': 'Jenni-Lincoln, V...  \n",
       "4  [{'id': 63, 'anzeige_name': 'Bütikofer, Etienn...  \n",
       "\n",
       "[5 rows x 117 columns]"
      ]
     },
     "metadata": {},
     "output_type": "display_data"
    },
    {
     "name": "stdout",
     "output_type": "stream",
     "text": [
      "We got 246 parlementary membres\n"
     ]
    }
   ],
   "source": [
    "display(df.head(5)) # Display 5 parlementary members\n",
    "print(f\"We got {len(pd.unique(df['id']))} parlementary membres\") # output the number of members\n"
   ]
  },
  {
   "cell_type": "markdown",
   "metadata": {},
   "source": [
    "We can see there is 246 parlementary members, this is the right number."
   ]
  },
  {
   "cell_type": "markdown",
   "metadata": {},
   "source": [
    "### What political party are represented and how many parlement members per party"
   ]
  },
  {
   "cell_type": "code",
   "execution_count": 27,
   "metadata": {},
   "outputs": [
    {
     "data": {
      "text/plain": [
       "partei_name_de\n",
       "Schweizerische Volkspartei           68\n",
       "Sozialdemokratische Partei           50\n",
       "Die Mitte                            44\n",
       "Freisinnig-Demokratische Partei      38\n",
       "Grüne Partei der Schweiz             24\n",
       "Grünliberale Partei                  11\n",
       "Mouvement Citoyens Romands            3\n",
       "Evangelische Volkspartei              2\n",
       "Eidgenössisch-Demokratische Union     2\n",
       "Lega dei Ticinesi                     1\n",
       "Basels starke Alternative             1\n",
       "Alternative - die Grünen Zug          1\n",
       "Liberal-Demokratische Partei          1\n",
       "Name: count, dtype: int64"
      ]
     },
     "execution_count": 27,
     "metadata": {},
     "output_type": "execute_result"
    }
   ],
   "source": [
    "df['partei_name_de'].value_counts()"
   ]
  },
  {
   "cell_type": "markdown",
   "metadata": {},
   "source": [
    "We can see the number of parlementary memembers for each party. We can represent this in a pie chart."
   ]
  },
  {
   "cell_type": "code",
   "execution_count": 37,
   "metadata": {},
   "outputs": [
    {
     "data": {
      "text/plain": [
       "<Figure size 640x480 with 0 Axes>"
      ]
     },
     "execution_count": 37,
     "metadata": {},
     "output_type": "execute_result"
    },
    {
     "data": {
      "text/plain": [
       "<Figure size 640x480 with 0 Axes>"
      ]
     },
     "metadata": {},
     "output_type": "display_data"
    },
    {
     "data": {
      "image/png": "[encoded data removed]",
      "text/plain": [
       "<Figure size 1500x1500 with 1 Axes>"
      ]
     },
     "metadata": {},
     "output_type": "display_data"
    },
    {
     "data": {
      "text/plain": [
       "<Figure size 640x480 with 0 Axes>"
      ]
     },
     "metadata": {},
     "output_type": "display_data"
    }
   ],
   "source": [
    "plt.figure()\n",
    "fig, ax = plt.subplots(figsize=(15,15))\n",
    "plt.title('Parlementary members affiliation')\n",
    "\n",
    "ax.pie(df['partei_name_de'].value_counts().values, labels=df['partei_name_de'].value_counts().index)\n",
    "plt.figure()    "
   ]
  },
  {
   "cell_type": "markdown",
   "metadata": {},
   "source": [
    "## Now we can have a look at the interest declaration"
   ]
  },
  {
   "cell_type": "markdown",
   "metadata": {},
   "source": [
    "This information contains what organisation they are a member of, what their position is, if they are paid or unpaid..."
   ]
  },
  {
   "cell_type": "code",
   "execution_count": 34,
   "metadata": {},
   "outputs": [],
   "source": [
    "# Counting interests declarations per parlementary member\n",
    "df['interessenbindungen_count'] = df['interessenbindungen'].apply(lambda x : len(x))"
   ]
  },
  {
   "cell_type": "code",
   "execution_count": 47,
   "metadata": {},
   "outputs": [
    {
     "data": {
      "text/html": [
       "<div>\n",
       "<style scoped>\n",
       "    .dataframe tbody tr th:only-of-type {\n",
       "        vertical-align: middle;\n",
       "    }\n",
       "\n",
       "    .dataframe tbody tr th {\n",
       "        vertical-align: top;\n",
       "    }\n",
       "\n",
       "    .dataframe thead th {\n",
       "        text-align: right;\n",
       "    }\n",
       "</style>\n",
       "<table border=\"1\" class=\"dataframe\">\n",
       "  <thead>\n",
       "    <tr style=\"text-align: right;\">\n",
       "      <th></th>\n",
       "      <th>count</th>\n",
       "      <th>mean</th>\n",
       "      <th>std</th>\n",
       "      <th>min</th>\n",
       "      <th>25%</th>\n",
       "      <th>50%</th>\n",
       "      <th>75%</th>\n",
       "      <th>max</th>\n",
       "    </tr>\n",
       "    <tr>\n",
       "      <th>partei_name_de</th>\n",
       "      <th></th>\n",
       "      <th></th>\n",
       "      <th></th>\n",
       "      <th></th>\n",
       "      <th></th>\n",
       "      <th></th>\n",
       "      <th></th>\n",
       "      <th></th>\n",
       "    </tr>\n",
       "  </thead>\n",
       "  <tbody>\n",
       "    <tr>\n",
       "      <th>Alternative - die Grünen Zug</th>\n",
       "      <td>1.0</td>\n",
       "      <td>41.000000</td>\n",
       "      <td>NaN</td>\n",
       "      <td>41.0</td>\n",
       "      <td>41.00</td>\n",
       "      <td>41.0</td>\n",
       "      <td>41.00</td>\n",
       "      <td>41.0</td>\n",
       "    </tr>\n",
       "    <tr>\n",
       "      <th>Basels starke Alternative</th>\n",
       "      <td>1.0</td>\n",
       "      <td>33.000000</td>\n",
       "      <td>NaN</td>\n",
       "      <td>33.0</td>\n",
       "      <td>33.00</td>\n",
       "      <td>33.0</td>\n",
       "      <td>33.00</td>\n",
       "      <td>33.0</td>\n",
       "    </tr>\n",
       "    <tr>\n",
       "      <th>Die Mitte</th>\n",
       "      <td>44.0</td>\n",
       "      <td>31.727273</td>\n",
       "      <td>17.111622</td>\n",
       "      <td>5.0</td>\n",
       "      <td>15.75</td>\n",
       "      <td>27.5</td>\n",
       "      <td>48.25</td>\n",
       "      <td>64.0</td>\n",
       "    </tr>\n",
       "    <tr>\n",
       "      <th>Eidgenössisch-Demokratische Union</th>\n",
       "      <td>2.0</td>\n",
       "      <td>14.000000</td>\n",
       "      <td>9.899495</td>\n",
       "      <td>7.0</td>\n",
       "      <td>10.50</td>\n",
       "      <td>14.0</td>\n",
       "      <td>17.50</td>\n",
       "      <td>21.0</td>\n",
       "    </tr>\n",
       "    <tr>\n",
       "      <th>Evangelische Volkspartei</th>\n",
       "      <td>2.0</td>\n",
       "      <td>29.000000</td>\n",
       "      <td>18.384776</td>\n",
       "      <td>16.0</td>\n",
       "      <td>22.50</td>\n",
       "      <td>29.0</td>\n",
       "      <td>35.50</td>\n",
       "      <td>42.0</td>\n",
       "    </tr>\n",
       "    <tr>\n",
       "      <th>Freisinnig-Demokratische Partei</th>\n",
       "      <td>38.0</td>\n",
       "      <td>32.263158</td>\n",
       "      <td>18.484009</td>\n",
       "      <td>6.0</td>\n",
       "      <td>20.25</td>\n",
       "      <td>32.0</td>\n",
       "      <td>43.50</td>\n",
       "      <td>95.0</td>\n",
       "    </tr>\n",
       "    <tr>\n",
       "      <th>Grüne Partei der Schweiz</th>\n",
       "      <td>24.0</td>\n",
       "      <td>33.125000</td>\n",
       "      <td>15.593512</td>\n",
       "      <td>12.0</td>\n",
       "      <td>20.25</td>\n",
       "      <td>32.0</td>\n",
       "      <td>44.75</td>\n",
       "      <td>62.0</td>\n",
       "    </tr>\n",
       "    <tr>\n",
       "      <th>Grünliberale Partei</th>\n",
       "      <td>11.0</td>\n",
       "      <td>35.090909</td>\n",
       "      <td>19.755782</td>\n",
       "      <td>3.0</td>\n",
       "      <td>28.00</td>\n",
       "      <td>33.0</td>\n",
       "      <td>41.50</td>\n",
       "      <td>80.0</td>\n",
       "    </tr>\n",
       "    <tr>\n",
       "      <th>Lega dei Ticinesi</th>\n",
       "      <td>1.0</td>\n",
       "      <td>18.000000</td>\n",
       "      <td>NaN</td>\n",
       "      <td>18.0</td>\n",
       "      <td>18.00</td>\n",
       "      <td>18.0</td>\n",
       "      <td>18.00</td>\n",
       "      <td>18.0</td>\n",
       "    </tr>\n",
       "    <tr>\n",
       "      <th>Liberal-Demokratische Partei</th>\n",
       "      <td>1.0</td>\n",
       "      <td>33.000000</td>\n",
       "      <td>NaN</td>\n",
       "      <td>33.0</td>\n",
       "      <td>33.00</td>\n",
       "      <td>33.0</td>\n",
       "      <td>33.00</td>\n",
       "      <td>33.0</td>\n",
       "    </tr>\n",
       "    <tr>\n",
       "      <th>Mouvement Citoyens Romands</th>\n",
       "      <td>3.0</td>\n",
       "      <td>4.000000</td>\n",
       "      <td>2.000000</td>\n",
       "      <td>2.0</td>\n",
       "      <td>3.00</td>\n",
       "      <td>4.0</td>\n",
       "      <td>5.00</td>\n",
       "      <td>6.0</td>\n",
       "    </tr>\n",
       "    <tr>\n",
       "      <th>Schweizerische Volkspartei</th>\n",
       "      <td>68.0</td>\n",
       "      <td>19.691176</td>\n",
       "      <td>11.767977</td>\n",
       "      <td>4.0</td>\n",
       "      <td>10.00</td>\n",
       "      <td>17.0</td>\n",
       "      <td>28.25</td>\n",
       "      <td>52.0</td>\n",
       "    </tr>\n",
       "    <tr>\n",
       "      <th>Sozialdemokratische Partei</th>\n",
       "      <td>50.0</td>\n",
       "      <td>28.300000</td>\n",
       "      <td>24.653724</td>\n",
       "      <td>1.0</td>\n",
       "      <td>10.00</td>\n",
       "      <td>21.0</td>\n",
       "      <td>42.25</td>\n",
       "      <td>95.0</td>\n",
       "    </tr>\n",
       "  </tbody>\n",
       "</table>\n",
       "</div>"
      ],
      "text/plain": [
       "                                   count       mean        std   min    25%  \\\n",
       "partei_name_de                                                                \n",
       "Alternative - die Grünen Zug         1.0  41.000000        NaN  41.0  41.00   \n",
       "Basels starke Alternative            1.0  33.000000        NaN  33.0  33.00   \n",
       "Die Mitte                           44.0  31.727273  17.111622   5.0  15.75   \n",
       "Eidgenössisch-Demokratische Union    2.0  14.000000   9.899495   7.0  10.50   \n",
       "Evangelische Volkspartei             2.0  29.000000  18.384776  16.0  22.50   \n",
       "Freisinnig-Demokratische Partei     38.0  32.263158  18.484009   6.0  20.25   \n",
       "Grüne Partei der Schweiz            24.0  33.125000  15.593512  12.0  20.25   \n",
       "Grünliberale Partei                 11.0  35.090909  19.755782   3.0  28.00   \n",
       "Lega dei Ticinesi                    1.0  18.000000        NaN  18.0  18.00   \n",
       "Liberal-Demokratische Partei         1.0  33.000000        NaN  33.0  33.00   \n",
       "Mouvement Citoyens Romands           3.0   4.000000   2.000000   2.0   3.00   \n",
       "Schweizerische Volkspartei          68.0  19.691176  11.767977   4.0  10.00   \n",
       "Sozialdemokratische Partei          50.0  28.300000  24.653724   1.0  10.00   \n",
       "\n",
       "                                    50%    75%   max  \n",
       "partei_name_de                                        \n",
       "Alternative - die Grünen Zug       41.0  41.00  41.0  \n",
       "Basels starke Alternative          33.0  33.00  33.0  \n",
       "Die Mitte                          27.5  48.25  64.0  \n",
       "Eidgenössisch-Demokratische Union  14.0  17.50  21.0  \n",
       "Evangelische Volkspartei           29.0  35.50  42.0  \n",
       "Freisinnig-Demokratische Partei    32.0  43.50  95.0  \n",
       "Grüne Partei der Schweiz           32.0  44.75  62.0  \n",
       "Grünliberale Partei                33.0  41.50  80.0  \n",
       "Lega dei Ticinesi                  18.0  18.00  18.0  \n",
       "Liberal-Demokratische Partei       33.0  33.00  33.0  \n",
       "Mouvement Citoyens Romands          4.0   5.00   6.0  \n",
       "Schweizerische Volkspartei         17.0  28.25  52.0  \n",
       "Sozialdemokratische Partei         21.0  42.25  95.0  "
      ]
     },
     "execution_count": 47,
     "metadata": {},
     "output_type": "execute_result"
    }
   ],
   "source": [
    "# Describing how many declaration each member for each party\n",
    "df.groupby('partei_name_de').describe()['interessenbindungen_count']"
   ]
  },
  {
   "cell_type": "markdown",
   "metadata": {},
   "source": [
    "For example, we observe that while they have similar size, Sozialdemokratische Partei (PS) members have declared more affiliations than Schweizerische Volkspartei (UDC) members but we also observe a large standard deviation for the PS.\n",
    "This can make sense as we can see this party has both a member with the least declarations and the maximum declarations.\n",
    "\n",
    "We can also see that informations from small parties if we analyse trends in parties as they do not have enough representatives in the parlement to produce meaningful data.\n",
    "As of now, we will use data from the large parties only.\n",
    "\n",
    "For the top 5 parties (UDC, PS, PLR, Le Centre, Vert.es), we observe the greens are the ones with more declared affiliations."
   ]
  },
  {
   "cell_type": "markdown",
   "metadata": {},
   "source": [
    "## Paid or unpaid affiliations"
   ]
  },
  {
   "cell_type": "markdown",
   "metadata": {},
   "source": [
    "Parlementary members declare all types of affiliations, to be volunteer at a non-profit that feed homeless people or consultant for an oil company is counted the same. Let's simply separate between paid and unpaid for now.\n",
    "We decided to count reimbursement for costs as unpaid but compensation as paid. We may decide to change that later on."
   ]
  },
  {
   "cell_type": "code",
   "execution_count": 49,
   "metadata": {},
   "outputs": [],
   "source": [
    "# we need to classify paid and unpaid by hand for now as there is no binary value in the dataset\n",
    "paid_positions = [\n",
    "    'Bezahlt', \n",
    "    'Bezahlendes Mitglied', \n",
    "    'Betrag siehe Stiftung Visana Plus', \n",
    "    'Sitzungsgeld, nach Aufwand', \n",
    "    'Das Mandat als VR-Präsidentin ist nicht vergütet, die Geschäftsleitung schon.', \n",
    "    'Das Mandat als VR-Präsidentin ist nicht vergütet, die Geschäftsleitung schon.', # This is repeated, but assuming it indicates a paid position.\n",
    "    'inkl. Spesen', \n",
    "    'Versteuerte Einkünfte', \n",
    "    'Spesen', \n",
    "    'Entschädigung inkl. Spesen', \n",
    "    'Zusätzlich 3000.- Spesen', \n",
    "    'Zusätzlich 3000 Fr./Jahr Spesen', \n",
    "    'Zusätzlich 500.- Spesen', \n",
    "    'Zusätzlich 500 Fr./Jahr Spesen', \n",
    "    'Für vier halbtägige Sitzungen inkl. Vor- und Nachbereitung', \n",
    "    'inkl. Spesenentschädigung', \n",
    "    'Sitzungsgeld', \n",
    "    'ungefähre Vergütung', \n",
    "    'Vergütung kann sich auf bis zu 5000.- belaufen.', \n",
    "    'Vergütung gemäss Geschäftsbericht (Durchschnitt)', \n",
    "    'Entschädigung 1000 Fr./Monat', \n",
    "    'Entschädigung', \n",
    "    'Zahlendes Mitglied', \n",
    "    'CHF 400.- CHF pro Sitzung. Maximal 4 pro Jahr', \n",
    "    'CHF 400 pro Sitzung', \n",
    "    'Von NR Glättli bezahlte Mandatsabgaben: Fr. 9000.-', \n",
    "    'Verzicht auf Entschädigung / renoncé à la rémuneration', \n",
    "    'maximal, je nach Anzahl Sitzungen / maximum, selon les participations aux séances.', \n",
    "    'Verzicht ab Sommer 2018 - renoncé à la rémuneration depuis été 2018', \n",
    "    'maximal, abhängig vom Geschäftsgang / maximum, selon le résultat de l\\'entreprise', \n",
    "    'Je nach Anzahl Sitzungen 800-1500 Fr. /Jahr', \n",
    "    'Jährlich variierende Aufwandentschädigung', \n",
    "    'Unbezahlt im Jahr 2023, zuvor auch schon bezahlt', \n",
    "    'Spesen pro Sitzung', \n",
    "    'Spesen bis max. 500 Fr./Jahr', \n",
    "    'Entschädigung nach Studenaufwand (35.-/Stunde)', \n",
    "    'Spesenpauschale', \n",
    "    '150.- pro Sitzung', \n",
    "    'Je nach Aufwand zwischen 3000 und 10000 Fr./Jahr', \n",
    "    'Inklusive 300 Franken Spesen', \n",
    "    'Vergütung als Beratertätigkeit an die Firma Jost Wohlen AG (Keine Auszahlung an Matthias Jauslin)', \n",
    "    'Spesenvergütung', \n",
    "    'Pauschale Spesenentschädigung', \n",
    "    'plus Pauschalspesen von 6000.-', \n",
    "    'Lohn als Arbeitnehmer, plus 3600.-/Jahr Pauschalspesen, das VR-Präsidium ist nicht vergütet', \n",
    "    'Je nach Anzahl Sitzungen 800-1500 Fr. /Jahr', \n",
    "    'Entschädigung/Spesen', \n",
    "    'ca. 10 Sitzungen/Jahr à 100 Franken', \n",
    "    'bis zu 4 Sitzungen pro Jahr à 150 Franken Sitzungsgeld', \n",
    "    'Les indemnités vont à la Commune', \n",
    "    'les indemnités sont versées à la Commune', \n",
    "    'inkl. Sitzungsgelder', \n",
    "    'Teil der Entschädigung der Ypsomed Holding AG', \n",
    "    'max. Lohn', \n",
    "    'Bezahlt, aber Vergütung geht in Stadtkasse. Amt in Verbindung mit \"Gemeinderat der Stadt Bern\".', \n",
    "    'Bezahlt (50% Pensum)', \n",
    "    'Bezahlt, inkl. Sitzungsgeld', \n",
    "    'Bezahlt, inkl. Sitzungsgelder', \n",
    "    'Bezahlt in Sitzungsgelder', \n",
    "    'Bezahlt, als Vertreterin des Schweizerischen Gewerkschaftsbundes, Vergütung geht direkt an Unia.', \n",
    "    'Bezahlt, inkludiert im Gemeindepräsidium', \n",
    "    'Bezahlt, als Vertreter des Kantons Glarus', \n",
    "    'inkl. 1000.- Spesenentschädigung', \n",
    "    'Bezahlt (ca. 900.-)', \n",
    "    'Bezahlt (max. 900.-)', \n",
    "    'Bezahlt (max. 3000.-)', \n",
    "    'Max. Vergütung, Betrag zwischen 600-800.-', \n",
    "    'Max. Vergütung, Betrag zwischen 200-300.-', \n",
    "    'Max. Vergütung', \n",
    "    'max. Taggelder', \n",
    "    'Bezahlt, ca. 50% Pensum', \n",
    "    '60% Pensum', \n",
    "    'Maximalbetrag', \n",
    "    'Bezahlt, Mandat der Firma Zryd & Reinhard GmbH',\n",
    "    'Zusätzliches Sitzungsgeld: 400 Fr./Halbtag, 800 Fr./Tag', \n",
    "    '600-900 Fr./Jahr', \n",
    "    '600-1000 Fr./Jahr', \n",
    "    'Rémunération par séance plénière / Entschädigung pro Vollversammlung', \n",
    "    'Rémunération par séance plénière / Entschädigung pro Sitzung', \n",
    "    'ehrenamtlich; von NR Glättli bezahlte Mandatsabgaben: Fr. 5000.-', \n",
    "    'maximal, abhängig vom Geschäftsgang / maximum, selon le résultat de l\\'entreprise', \n",
    "    'inkl. 1000.- Spesenentschädigung', \n",
    "    'Plus 5000 Fr./Jahr Spesen', \n",
    "    '40%-Pensum', \n",
    "    'Mi-temps / 50-Prozent-Stelle', \n",
    "    'Bezahlt (max. 320.-)', \n",
    "    'Part de revenu sur honoraires versés à son étude/Teil der Entschädigung geht an seine Kanzlei', \n",
    "    'Je nach Geschäftsgang zwischen 0.- und 20\\'000.-/Jahr', \n",
    "    'Lohn (brutto)', \n",
    "    'Lohn, inkl Sitzungsgeld und Spesen', \n",
    "    'Jährliche Investition von C. Wasserfallen:2500 Fr./Jahr', \n",
    "    'Spesen bis max. 500 Fr./Jahr', \n",
    "    'Bezahlt, max. Betrag: 3000.-', \n",
    "    'Bezahlt (Maximales Sitzungsgeld)', \n",
    "    'max. Pauschalbetrag', \n",
    "    'Maximalbetrag', \n",
    "    'Teilzeitpensum', \n",
    "    'Versteuerte Einkünfte', \n",
    "    'Vergütet im Rahmen des Mandats bei les Fils Maye SA/Rémunération inclus dans le mandat Les fils Maye', \n",
    "    'Mandat in Verbindung mit \"Gemeinderat der Stadt Bern\"', \n",
    "    'Gesamte Einkünfte aus allen Mandaten, abzüglich Kosten', \n",
    "    'Bezahlt (je nach Sitzungen)', \n",
    "    '40 Fr. par séance de commission', \n",
    "    'Inkl. Sitzungsgelder', \n",
    "    'nach Aufwand', \n",
    "    '2058 Fr./Jahr davon sind Spesen', \n",
    "    'bis zu 4 Sitzungen pro Jahr à 150 Franken Sitzungsgeld', \n",
    "    'Inklusive 300 Franken Spesen', \n",
    "    'Bezahlt, Mandat der Firma Zryd & Reinhard GmbH'\n",
    "    '(inkl.Sitzungsgelder)', \n",
    "    'je nach Auswand/Sitzungen', \n",
    "    'Défraiement', \n",
    "    'Sitzungsentschädigung', \n",
    "    'Spende', \n",
    "    'Entschädigung zusammen mit \"alpinfra\"', \n",
    "    'Entschädigung zusammen mit \"Schweizerischer Fonds für Hilfe bei nicht versicherbaren Elementarschäden\"', \n",
    "    'Sehr variabel, selbständige Tätigkeit', \n",
    "    'Jahresentschädigung', \n",
    "    'Teil der Entschädigung geht an seine Kanzlei', \n",
    "    'Abhängig von der Anzahl Sitzungen', \n",
    "    'Bezahlt (Zuätzlich Spesen- und Sitzungsgelder', \n",
    "    'Bezahlt, siehe Obere Mühle Alterswohnungen AG', \n",
    "    'ungefähre Sitzungsgelder', \n",
    "    'Pauschalbetrag', \n",
    "    'Ungefährer Durchschnittswert', \n",
    "    'Vergütung gilt auch für Obere Mühle Alterswohnungen AG', \n",
    "\n",
    "]\n",
    "\n",
    "unpaid_positions = [\n",
    "    'Ehrenamtlich', \n",
    "    'Ehrenamtlich, Spende', \n",
    "    'Spesenentschädigung', \n",
    "    'Ehrenamtlich (Sitzungsgeld)', \n",
    "    'ehrenamtlich', \n",
    "    'CHF 5 francs par séance plénière. 35 francs par séance de commission. Cela représente moins de 100 francs par année.', \n",
    "    'Pas de réunion depuis au moins 2 ans. Donc aucune rémunération en 2019 et 2020.', \n",
    "    'Keine', \n",
    "    'Reversée à l\\'association /Vereinigung gespendetan', \n",
    "    'Wegen Amt der Nationalratspräsidentin wird Vergütung und Pensum ausgesetzt.', \n",
    "    'Ehrenamtlich, Spesenentschädigung', \n",
    "    'Ehrenamtlich (Verzicht auf Entschädigung)', \n",
    "    'Ex officio im Rahmen des Regierungsrats-Mandats', \n",
    "    'Mandat in Verbindung mit Gemeinderat. Vergütung geht direkt an die Gemeinde.', \n",
    "    'Ehrenamtlich (In der Entschädigung der Einwohnergemeinde Flühli eingeschlossen)', \n",
    "    'Ehrenamtlich (In der Entschädigung der Einwohnergemeinde Flühli eingeschlossen)', \n",
    "    'Ehrenamtlich (Verzicht auf Entschädigung)', \n",
    "    'Les indemnités vont à la Commune', \n",
    "    'les indemnités sont versées à la Commune', \n",
    "    'nach Aufwand', \n",
    "]"
   ]
  },
  {
   "cell_type": "code",
   "execution_count": 50,
   "metadata": {},
   "outputs": [],
   "source": [
    "df['interessenbindungen_paid']=0\n",
    "df['interessenbindungen_unpaid']=0\n",
    "for row in df.index:\n",
    "    for el1 in df['interessenbindungen'][row]:\n",
    "        for el2 in el1['verguetungen']:\n",
    "            if (el2['beschreibung']!= None):# and (el2['beschreibung'] not in unpaid_positions) and (el2['beschreibung'] not in paid_positions):\n",
    "                if el2['beschreibung'] in unpaid_positions:\n",
    "                    df.loc[row,'interessenbindungen_unpaid'] = df.loc[row,'interessenbindungen_unpaid'] + 1\n",
    "                if el2['beschreibung'] in paid_positions:\n",
    "                    df.loc[row,'interessenbindungen_paid'] = df.loc[row,'interessenbindungen_paid'] + 1\n"
   ]
  },
  {
   "cell_type": "markdown",
   "metadata": {},
   "source": [
    "Let's check the proportion of paid position vs unpaid per party"
   ]
  },
  {
   "cell_type": "code",
   "execution_count": 65,
   "metadata": {},
   "outputs": [
    {
     "data": {
      "text/plain": [
       "partei_name_de\n",
       "Alternative - die Grünen Zug         0.782313\n",
       "Eidgenössisch-Demokratische Union    0.571429\n",
       "Mouvement Citoyens Romands           0.555556\n",
       "Sozialdemokratische Partei           0.491519\n",
       "Schweizerische Volkspartei           0.481043\n",
       "Grüne Partei der Schweiz             0.455797\n",
       "Freisinnig-Demokratische Partei      0.383186\n",
       "Die Mitte                            0.359265\n",
       "Basels starke Alternative            0.243243\n",
       "Liberal-Demokratische Partei         0.233333\n",
       "Lega dei Ticinesi                    0.228571\n",
       "Grünliberale Partei                  0.071869\n",
       "Evangelische Volkspartei             0.040000\n",
       "dtype: float64"
      ]
     },
     "execution_count": 65,
     "metadata": {},
     "output_type": "execute_result"
    }
   ],
   "source": [
    "(df.groupby('partei_name_de').sum()['interessenbindungen_paid']/(df.groupby('partei_name_de').sum()['interessenbindungen_unpaid']+df.groupby('partei_name_de').sum()['interessenbindungen_paid'])).sort_values(ascending=False)"
   ]
  },
  {
   "cell_type": "markdown",
   "metadata": {},
   "source": [
    "Now let's visualize this"
   ]
  },
  {
   "cell_type": "code",
   "execution_count": 70,
   "metadata": {},
   "outputs": [
    {
     "data": {
      "image/png": "[encoded data removed]",
      "text/plain": [
       "<Figure size 640x480 with 1 Axes>"
      ]
     },
     "metadata": {},
     "output_type": "display_data"
    }
   ],
   "source": [
    "plt.figure()\n",
    "plt.title(\"Percentage of paid interests per party\")\n",
    "plt.ylabel('Percentage')\n",
    "(df.groupby('partei_name_de').sum()['interessenbindungen_paid']/(df.groupby('partei_name_de').sum()['interessenbindungen_unpaid']+df.groupby('partei_name_de').sum()['interessenbindungen_paid'])).sort_values().plot.bar()\n",
    "plt.show()"
   ]
  },
  {
   "cell_type": "markdown",
   "metadata": {},
   "source": [
    "## Let's check what kind of orgnisation are declared"
   ]
  },
  {
   "cell_type": "code",
   "execution_count": 92,
   "metadata": {},
   "outputs": [
    {
     "data": {
      "text/plain": [
       "'SWISSAID, Schweizerische Stiftung für Entwicklungszusammenarbeit; SWISSAID, Fondation Suisse pour la coopération au développement; SWISSAID, Fondazione Svizzera per la cooperazione allo sviluppo'"
      ]
     },
     "execution_count": 92,
     "metadata": {},
     "output_type": "execute_result"
    }
   ],
   "source": [
    "# For example, let's get a random declared interest group.\n",
    "df.sample()['interessenbindungen'].values[0][0]['organisation']['name']"
   ]
  },
  {
   "cell_type": "markdown",
   "metadata": {},
   "source": [
    "### Finding organisation with the most declarations"
   ]
  },
  {
   "cell_type": "code",
   "execution_count": 131,
   "metadata": {},
   "outputs": [
    {
     "name": "stdout",
     "output_type": "stream",
     "text": [
      "Got one error reading name of organization\n",
      "In total got 1 errors\n",
      "Orga 1751 - Sport; Sport has 98 parlementary members\n",
      "Orga 2899 - Wohn- und Grundeigentum; Propriété immobilière et foncière; Proprietà immobiliare e fondiaria has 86 parlementary members\n",
      "Orga 2124 - Bildung, Forschung und Innovation; Formation, recherche et innovation; Formazione, la ricerca e l'innovazione has 70 parlementary members\n",
      "Orga 4111 - Landwirtschaftlicher Klub der Bundesversammlung; Club agricole de l'Assemblée fédérale has 64 parlementary members\n",
      "Orga 1750 - Bundeshaus-Band; Bundeshaus-Band has 56 parlementary members\n",
      "Orga 7594 - Behindertenfragen; Pour les questions relatives aux personnes handicapées; Persone con disabilità has 55 parlementary members\n",
      "Orga 637 - Biodiversität und Artenschutz; Biodiversité et gestion des espèces has 55 parlementary members\n",
      "Orga 5964 - lingua e cultura rumantscha; lingua e cultura rumantscha; lingua e cultura rumantscha has 54 parlementary members\n",
      "Orga 1622 - Tourismus PGT; Tourisme GPT has 54 parlementary members\n",
      "Orga 5024 - Rotes Kreuz; Croix-Rouge; Croce Rossa has 53 parlementary members\n"
     ]
    }
   ],
   "source": [
    "organisation_id = []\n",
    "organisation_dict = {}\n",
    "error_cnt = 0\n",
    "for row in df.index:\n",
    "    for el1 in df.loc[row, 'interessenbindungen']:\n",
    "        try:\n",
    "            organisation_dict[el1['organisation']['id']] = el1['organisation']['name']\n",
    "            organisation_id.append(el1['organisation']['id'])\n",
    "        except:\n",
    "            print('Got one error reading name of organization')\n",
    "            error_cnt +=1\n",
    "print(f\"In total got {error_cnt} errors\")\n",
    "counter = Counter(organisation_id)\n",
    "# Now print the 10 most named organization\n",
    "for key, value in counter.most_common(10):\n",
    "    print(f'Orga {key} - {organisation_dict[key]} has {value} parlementary members')"
   ]
  },
  {
   "cell_type": "markdown",
   "metadata": {},
   "source": [
    "### We see that some are very general, let's only count positions that are paid"
   ]
  },
  {
   "cell_type": "code",
   "execution_count": 136,
   "metadata": {},
   "outputs": [
    {
     "name": "stdout",
     "output_type": "stream",
     "text": [
      "In total got 0 errors\n",
      "Orga 576 - Pro Natura - Schweizerischer Bund für Naturschutz has 14 parlementary members\n",
      "Orga 130 - Schweizerischer Verband des Personals öffentlicher Dienste (V.P.O.D.); Syndicat suisse des services publics; Sindacato svizzero dei servizi pubblici has 14 parlementary members\n",
      "Orga 602 - WWF Schweiz; WWF Suisse; WWF Svizzera has 12 parlementary members\n",
      "Orga 1344 - Schweizer Paraplegiker-Stiftung; Fondation suisse pour paraplégiques; Fondazione svizzera per paraplegici has 11 parlementary members\n",
      "Orga 989 - Greenpeace Schweiz has 11 parlementary members\n",
      "Orga 4926 - Die Mitte Frauen Schweiz; Le Centre Femmes Suisse; Allianza dal Center svizzero delle donne has 10 parlementary members\n",
      "Orga 580 - VCS Verkehrs-Club der Schweiz; ATE Association transports et environnement; ATA Associazione traffico e ambiente has 10 parlementary members\n",
      "Orga 1064 - Amnesty International - Schweizer Sektion has 9 parlementary members\n",
      "Orga 381 - Gewerkschaft Unia; Syndicat Unia; Sindacato Unia has 8 parlementary members\n",
      "Orga 980 - Schweizerische Rettungsflugwacht (Rega) has 8 parlementary members\n",
      "Orga 1063 - Public Eye; Public Eye; Dichiarazione di Berne has 7 parlementary members\n",
      "Orga 1976 - Schweizerischer Anwaltsverband; Fédération Suisse des Avocats; Federazione Svizzera degli Avvocati has 7 parlementary members\n",
      "Orga 674 - Schweizerische Energie-Stiftung; Fondation Suisse de l'Energie; Fondazione Svizzera dell'Energia has 7 parlementary members\n",
      "Orga 79 - Europäische Bewegung Schweiz; Mouvement européen Suisse; Nuovo movimento europeo svizzero has 6 parlementary members\n",
      "Orga 179 - Pro Velo Schweiz has 6 parlementary members\n",
      "Orga 347 - Schweizerischer Mieterinnen- und Mieterverband; Association Suisse des locataires; Associazione Svizzera Inquilini has 5 parlementary members\n",
      "Orga 344 - Schweizerischer Gewerbeverband; Union suisse des arts et métiers has 5 parlementary members\n",
      "Orga 2432 - Gastgewerbe; Hôtellerie et restauration; Intergruppo parlamentare per il settore alberghiero e della ristorazione has 4 parlementary members\n",
      "Orga 517 - Schweizerische Volkspartei; Union démocratique du centre; Unione democratica di centro has 4 parlementary members\n",
      "Orga 440 - Kantonaler Gewerbeverband Zürich KGV has 4 parlementary members\n"
     ]
    }
   ],
   "source": [
    "organisation_id = []\n",
    "organisation_dict = {}\n",
    "error_cnt = 0\n",
    "for row in df.index:\n",
    "    for el1 in df.loc[row, 'interessenbindungen']:\n",
    "        paid = False\n",
    "        try:\n",
    "            for el2 in el1['verguetungen']:\n",
    "                if (el2['beschreibung']!= None):\n",
    "                    if el2['beschreibung'] in paid_positions:\n",
    "                        paid = True\n",
    "            if paid:\n",
    "                organisation_dict[el1['organisation']['id']] = el1['organisation']['name']\n",
    "                organisation_id.append(el1['organisation']['id'])\n",
    "        except:\n",
    "            print('Got one error reading name of organization')\n",
    "            error_cnt +=1\n",
    "print(f\"In total got {error_cnt} errors\")\n",
    "counter = Counter(organisation_id)\n",
    "# Printing the 20 most named organizations\n",
    "for key, value in counter.most_common(20):\n",
    "    print(f'Orga {key} - {organisation_dict[key]} has {value} parlementary members')"
   ]
  },
  {
   "cell_type": "markdown",
   "metadata": {},
   "source": [
    "We get a very different picture of paid interests now."
   ]
  },
  {
   "cell_type": "markdown",
   "metadata": {},
   "source": [
    "## Focus on the organizations\n",
    "Now let's look at what kind of parties organizations recruit"
   ]
  },
  {
   "cell_type": "code",
   "execution_count": 108,
   "metadata": {},
   "outputs": [],
   "source": [
    "# Check party membership for orga\n",
    "def get_interessen_counter(orga):\n",
    "    parties = []\n",
    "    error_cnt = 0\n",
    "    for row in df.index:\n",
    "        for el1 in df.loc[row, 'interessenbindungen']:\n",
    "            try:\n",
    "                if el1['organisation']['id'] == orga:\n",
    "                    parties.append(df.loc[row,'partei_name_de'])\n",
    "            except:\n",
    "                print('error')\n",
    "                error_cnt +=1\n",
    "\n",
    "    counter = Counter(parties)\n",
    "    counter = dict(counter)\n",
    "\n",
    "    all_party = pd.unique(df.partei_name_fr)\n",
    "    for party in all_party:\n",
    "        if party not in [*counter] and party != None:\n",
    "            counter[party] = 0\n",
    "    return counter"
   ]
  },
  {
   "cell_type": "code",
   "execution_count": 132,
   "metadata": {},
   "outputs": [],
   "source": [
    "key = 7825 #the id of the organization"
   ]
  },
  {
   "cell_type": "code",
   "execution_count": 133,
   "metadata": {},
   "outputs": [
    {
     "name": "stdout",
     "output_type": "stream",
     "text": [
      "error\n"
     ]
    },
    {
     "data": {
      "application/vnd.plotly.v1+json": {
       "config": {
        "plotlyServerURL": "https://plot.ly"
       },
       "data": [
        {
         "link": {
          "source": [
           0,
           0,
           0,
           0,
           0,
           0,
           0,
           0,
           0,
           0,
           0,
           0
          ],
          "target": [
           1,
           2,
           3,
           4,
           5,
           6,
           7,
           8,
           9,
           10,
           11
          ],
          "value": [
           4,
           8,
           10,
           8,
           2,
           0,
           0,
           0,
           0,
           0,
           0,
           0
          ]
         },
         "node": {
          "color": "blue",
          "label": [
           "CHANCE5G",
           "Grünliberale Partei",
           "Die Mitte",
           "Freisinnig-Demokratische Partei",
           "Schweizerische Volkspartei",
           "Sozialdemokratische Partei",
           "Union Démocratique du Centre",
           "Le Centre",
           "PLR.Les Libéraux-Radicaux",
           "Parti socialiste",
           "Parti vert-libéral",
           "Les Verts",
           "Union Démocratique Fédérale",
           "Grünliberale Partei",
           "Die Mitte",
           "Freisinnig-Demokratische Partei",
           "Schweizerische Volkspartei",
           "Sozialdemokratische Partei",
           "Union Démocratique du Centre",
           "Le Centre",
           "PLR.Les Libéraux-Radicaux",
           "Parti socialiste",
           "Parti vert-libéral",
           "Les Verts",
           "Union Démocratique Fédérale"
          ],
          "line": {
           "color": "black",
           "width": 0.5
          },
          "pad": 15,
          "thickness": 20
         },
         "type": "sankey"
        }
       ],
       "layout": {
        "font": {
         "color": "black",
         "size": 12
        },
        "height": 600,
        "template": {
         "data": {
          "bar": [
           {
            "error_x": {
             "color": "#2a3f5f"
            },
            "error_y": {
             "color": "#2a3f5f"
            },
            "marker": {
             "line": {
              "color": "#E5ECF6",
              "width": 0.5
             },
             "pattern": {
              "fillmode": "overlay",
              "size": 10,
              "solidity": 0.2
             }
            },
            "type": "bar"
           }
          ],
          "barpolar": [
           {
            "marker": {
             "line": {
              "color": "#E5ECF6",
              "width": 0.5
             },
             "pattern": {
              "fillmode": "overlay",
              "size": 10,
              "solidity": 0.2
             }
            },
            "type": "barpolar"
           }
          ],
          "carpet": [
           {
            "aaxis": {
             "endlinecolor": "#2a3f5f",
             "gridcolor": "white",
             "linecolor": "white",
             "minorgridcolor": "white",
             "startlinecolor": "#2a3f5f"
            },
            "baxis": {
             "endlinecolor": "#2a3f5f",
             "gridcolor": "white",
             "linecolor": "white",
             "minorgridcolor": "white",
             "startlinecolor": "#2a3f5f"
            },
            "type": "carpet"
           }
          ],
          "choropleth": [
           {
            "colorbar": {
             "outlinewidth": 0,
             "ticks": ""
            },
            "type": "choropleth"
           }
          ],
          "contour": [
           {
            "colorbar": {
             "outlinewidth": 0,
             "ticks": ""
            },
            "colorscale": [
             [
              0,
              "#0d0887"
             ],
             [
              0.1111111111111111,
              "#46039f"
             ],
             [
              0.2222222222222222,
              "#7201a8"
             ],
             [
              0.3333333333333333,
              "#9c179e"
             ],
             [
              0.4444444444444444,
              "#bd3786"
             ],
             [
              0.5555555555555556,
              "#d8576b"
             ],
             [
              0.6666666666666666,
              "#ed7953"
             ],
             [
              0.7777777777777778,
              "#fb9f3a"
             ],
             [
              0.8888888888888888,
              "#fdca26"
             ],
             [
              1,
              "#f0f921"
             ]
            ],
            "type": "contour"
           }
          ],
          "contourcarpet": [
           {
            "colorbar": {
             "outlinewidth": 0,
             "ticks": ""
            },
            "type": "contourcarpet"
           }
          ],
          "heatmap": [
           {
            "colorbar": {
             "outlinewidth": 0,
             "ticks": ""
            },
            "colorscale": [
             [
              0,
              "#0d0887"
             ],
             [
              0.1111111111111111,
              "#46039f"
             ],
             [
              0.2222222222222222,
              "#7201a8"
             ],
             [
              0.3333333333333333,
              "#9c179e"
             ],
             [
              0.4444444444444444,
              "#bd3786"
             ],
             [
              0.5555555555555556,
              "#d8576b"
             ],
             [
              0.6666666666666666,
              "#ed7953"
             ],
             [
              0.7777777777777778,
              "#fb9f3a"
             ],
             [
              0.8888888888888888,
              "#fdca26"
             ],
             [
              1,
              "#f0f921"
             ]
            ],
            "type": "heatmap"
           }
          ],
          "heatmapgl": [
           {
            "colorbar": {
             "outlinewidth": 0,
             "ticks": ""
            },
            "colorscale": [
             [
              0,
              "#0d0887"
             ],
             [
              0.1111111111111111,
              "#46039f"
             ],
             [
              0.2222222222222222,
              "#7201a8"
             ],
             [
              0.3333333333333333,
              "#9c179e"
             ],
             [
              0.4444444444444444,
              "#bd3786"
             ],
             [
              0.5555555555555556,
              "#d8576b"
             ],
             [
              0.6666666666666666,
              "#ed7953"
             ],
             [
              0.7777777777777778,
              "#fb9f3a"
             ],
             [
              0.8888888888888888,
              "#fdca26"
             ],
             [
              1,
              "#f0f921"
             ]
            ],
            "type": "heatmapgl"
           }
          ],
          "histogram": [
           {
            "marker": {
             "pattern": {
              "fillmode": "overlay",
              "size": 10,
              "solidity": 0.2
             }
            },
            "type": "histogram"
           }
          ],
          "histogram2d": [
           {
            "colorbar": {
             "outlinewidth": 0,
             "ticks": ""
            },
            "colorscale": [
             [
              0,
              "#0d0887"
             ],
             [
              0.1111111111111111,
              "#46039f"
             ],
             [
              0.2222222222222222,
              "#7201a8"
             ],
             [
              0.3333333333333333,
              "#9c179e"
             ],
             [
              0.4444444444444444,
              "#bd3786"
             ],
             [
              0.5555555555555556,
              "#d8576b"
             ],
             [
              0.6666666666666666,
              "#ed7953"
             ],
             [
              0.7777777777777778,
              "#fb9f3a"
             ],
             [
              0.8888888888888888,
              "#fdca26"
             ],
             [
              1,
              "#f0f921"
             ]
            ],
            "type": "histogram2d"
           }
          ],
          "histogram2dcontour": [
           {
            "colorbar": {
             "outlinewidth": 0,
             "ticks": ""
            },
            "colorscale": [
             [
              0,
              "#0d0887"
             ],
             [
              0.1111111111111111,
              "#46039f"
             ],
             [
              0.2222222222222222,
              "#7201a8"
             ],
             [
              0.3333333333333333,
              "#9c179e"
             ],
             [
              0.4444444444444444,
              "#bd3786"
             ],
             [
              0.5555555555555556,
              "#d8576b"
             ],
             [
              0.6666666666666666,
              "#ed7953"
             ],
             [
              0.7777777777777778,
              "#fb9f3a"
             ],
             [
              0.8888888888888888,
              "#fdca26"
             ],
             [
              1,
              "#f0f921"
             ]
            ],
            "type": "histogram2dcontour"
           }
          ],
          "mesh3d": [
           {
            "colorbar": {
             "outlinewidth": 0,
             "ticks": ""
            },
            "type": "mesh3d"
           }
          ],
          "parcoords": [
           {
            "line": {
             "colorbar": {
              "outlinewidth": 0,
              "ticks": ""
             }
            },
            "type": "parcoords"
           }
          ],
          "pie": [
           {
            "automargin": true,
            "type": "pie"
           }
          ],
          "scatter": [
           {
            "fillpattern": {
             "fillmode": "overlay",
             "size": 10,
             "solidity": 0.2
            },
            "type": "scatter"
           }
          ],
          "scatter3d": [
           {
            "line": {
             "colorbar": {
              "outlinewidth": 0,
              "ticks": ""
             }
            },
            "marker": {
             "colorbar": {
              "outlinewidth": 0,
              "ticks": ""
             }
            },
            "type": "scatter3d"
           }
          ],
          "scattercarpet": [
           {
            "marker": {
             "colorbar": {
              "outlinewidth": 0,
              "ticks": ""
             }
            },
            "type": "scattercarpet"
           }
          ],
          "scattergeo": [
           {
            "marker": {
             "colorbar": {
              "outlinewidth": 0,
              "ticks": ""
             }
            },
            "type": "scattergeo"
           }
          ],
          "scattergl": [
           {
            "marker": {
             "colorbar": {
              "outlinewidth": 0,
              "ticks": ""
             }
            },
            "type": "scattergl"
           }
          ],
          "scattermapbox": [
           {
            "marker": {
             "colorbar": {
              "outlinewidth": 0,
              "ticks": ""
             }
            },
            "type": "scattermapbox"
           }
          ],
          "scatterpolar": [
           {
            "marker": {
             "colorbar": {
              "outlinewidth": 0,
              "ticks": ""
             }
            },
            "type": "scatterpolar"
           }
          ],
          "scatterpolargl": [
           {
            "marker": {
             "colorbar": {
              "outlinewidth": 0,
              "ticks": ""
             }
            },
            "type": "scatterpolargl"
           }
          ],
          "scatterternary": [
           {
            "marker": {
             "colorbar": {
              "outlinewidth": 0,
              "ticks": ""
             }
            },
            "type": "scatterternary"
           }
          ],
          "surface": [
           {
            "colorbar": {
             "outlinewidth": 0,
             "ticks": ""
            },
            "colorscale": [
             [
              0,
              "#0d0887"
             ],
             [
              0.1111111111111111,
              "#46039f"
             ],
             [
              0.2222222222222222,
              "#7201a8"
             ],
             [
              0.3333333333333333,
              "#9c179e"
             ],
             [
              0.4444444444444444,
              "#bd3786"
             ],
             [
              0.5555555555555556,
              "#d8576b"
             ],
             [
              0.6666666666666666,
              "#ed7953"
             ],
             [
              0.7777777777777778,
              "#fb9f3a"
             ],
             [
              0.8888888888888888,
              "#fdca26"
             ],
             [
              1,
              "#f0f921"
             ]
            ],
            "type": "surface"
           }
          ],
          "table": [
           {
            "cells": {
             "fill": {
              "color": "#EBF0F8"
             },
             "line": {
              "color": "white"
             }
            },
            "header": {
             "fill": {
              "color": "#C8D4E3"
             },
             "line": {
              "color": "white"
             }
            },
            "type": "table"
           }
          ]
         },
         "layout": {
          "annotationdefaults": {
           "arrowcolor": "#2a3f5f",
           "arrowhead": 0,
           "arrowwidth": 1
          },
          "autotypenumbers": "strict",
          "coloraxis": {
           "colorbar": {
            "outlinewidth": 0,
            "ticks": ""
           }
          },
          "colorscale": {
           "diverging": [
            [
             0,
             "#8e0152"
            ],
            [
             0.1,
             "#c51b7d"
            ],
            [
             0.2,
             "#de77ae"
            ],
            [
             0.3,
             "#f1b6da"
            ],
            [
             0.4,
             "#fde0ef"
            ],
            [
             0.5,
             "#f7f7f7"
            ],
            [
             0.6,
             "#e6f5d0"
            ],
            [
             0.7,
             "#b8e186"
            ],
            [
             0.8,
             "#7fbc41"
            ],
            [
             0.9,
             "#4d9221"
            ],
            [
             1,
             "#276419"
            ]
           ],
           "sequential": [
            [
             0,
             "#0d0887"
            ],
            [
             0.1111111111111111,
             "#46039f"
            ],
            [
             0.2222222222222222,
             "#7201a8"
            ],
            [
             0.3333333333333333,
             "#9c179e"
            ],
            [
             0.4444444444444444,
             "#bd3786"
            ],
            [
             0.5555555555555556,
             "#d8576b"
            ],
            [
             0.6666666666666666,
             "#ed7953"
            ],
            [
             0.7777777777777778,
             "#fb9f3a"
            ],
            [
             0.8888888888888888,
             "#fdca26"
            ],
            [
             1,
             "#f0f921"
            ]
           ],
           "sequentialminus": [
            [
             0,
             "#0d0887"
            ],
            [
             0.1111111111111111,
             "#46039f"
            ],
            [
             0.2222222222222222,
             "#7201a8"
            ],
            [
             0.3333333333333333,
             "#9c179e"
            ],
            [
             0.4444444444444444,
             "#bd3786"
            ],
            [
             0.5555555555555556,
             "#d8576b"
            ],
            [
             0.6666666666666666,
             "#ed7953"
            ],
            [
             0.7777777777777778,
             "#fb9f3a"
            ],
            [
             0.8888888888888888,
             "#fdca26"
            ],
            [
             1,
             "#f0f921"
            ]
           ]
          },
          "colorway": [
           "#636efa",
           "#EF553B",
           "#00cc96",
           "#ab63fa",
           "#FFA15A",
           "#19d3f3",
           "#FF6692",
           "#B6E880",
           "#FF97FF",
           "#FECB52"
          ],
          "font": {
           "color": "#2a3f5f"
          },
          "geo": {
           "bgcolor": "white",
           "lakecolor": "white",
           "landcolor": "#E5ECF6",
           "showlakes": true,
           "showland": true,
           "subunitcolor": "white"
          },
          "hoverlabel": {
           "align": "left"
          },
          "hovermode": "closest",
          "mapbox": {
           "style": "light"
          },
          "paper_bgcolor": "white",
          "plot_bgcolor": "#E5ECF6",
          "polar": {
           "angularaxis": {
            "gridcolor": "white",
            "linecolor": "white",
            "ticks": ""
           },
           "bgcolor": "#E5ECF6",
           "radialaxis": {
            "gridcolor": "white",
            "linecolor": "white",
            "ticks": ""
           }
          },
          "scene": {
           "xaxis": {
            "backgroundcolor": "#E5ECF6",
            "gridcolor": "white",
            "gridwidth": 2,
            "linecolor": "white",
            "showbackground": true,
            "ticks": "",
            "zerolinecolor": "white"
           },
           "yaxis": {
            "backgroundcolor": "#E5ECF6",
            "gridcolor": "white",
            "gridwidth": 2,
            "linecolor": "white",
            "showbackground": true,
            "ticks": "",
            "zerolinecolor": "white"
           },
           "zaxis": {
            "backgroundcolor": "#E5ECF6",
            "gridcolor": "white",
            "gridwidth": 2,
            "linecolor": "white",
            "showbackground": true,
            "ticks": "",
            "zerolinecolor": "white"
           }
          },
          "shapedefaults": {
           "line": {
            "color": "#2a3f5f"
           }
          },
          "ternary": {
           "aaxis": {
            "gridcolor": "white",
            "linecolor": "white",
            "ticks": ""
           },
           "baxis": {
            "gridcolor": "white",
            "linecolor": "white",
            "ticks": ""
           },
           "bgcolor": "#E5ECF6",
           "caxis": {
            "gridcolor": "white",
            "linecolor": "white",
            "ticks": ""
           }
          },
          "title": {
           "x": 0.05
          },
          "xaxis": {
           "automargin": true,
           "gridcolor": "white",
           "linecolor": "white",
           "ticks": "",
           "title": {
            "standoff": 15
           },
           "zerolinecolor": "white",
           "zerolinewidth": 2
          },
          "yaxis": {
           "automargin": true,
           "gridcolor": "white",
           "linecolor": "white",
           "ticks": "",
           "title": {
            "standoff": 15
           },
           "zerolinecolor": "white",
           "zerolinewidth": 2
          }
         }
        },
        "title": {
         "text": "Link between CHANCE5G and parties"
        },
        "width": 800
       }
      },
      "text/html": [
       "<div>                            <div id=\"ff1e89e5-3a1b-4366-9c4a-5758a78de450\" class=\"plotly-graph-div\" style=\"height:600px; width:800px;\"></div>            <script type=\"text/javascript\">                require([\"plotly\"], function(Plotly) {                    window.PLOTLYENV=window.PLOTLYENV || {};                                    if (document.getElementById(\"ff1e89e5-3a1b-4366-9c4a-5758a78de450\")) {                    Plotly.newPlot(                        \"ff1e89e5-3a1b-4366-9c4a-5758a78de450\",                        [{\"link\":{\"source\":[0.0,0.0,0.0,0.0,0.0,0.0,0.0,0.0,0.0,0.0,0.0,0.0],\"target\":[1,2,3,4,5,6,7,8,9,10,11],\"value\":[4,8,10,8,2,0,0,0,0,0,0,0]},\"node\":{\"color\":\"blue\",\"label\":[\"CHANCE5G\",\"Gr\\u00fcnliberale Partei\",\"Die Mitte\",\"Freisinnig-Demokratische Partei\",\"Schweizerische Volkspartei\",\"Sozialdemokratische Partei\",\"Union D\\u00e9mocratique du Centre\",\"Le Centre\",\"PLR.Les Lib\\u00e9raux-Radicaux\",\"Parti socialiste\",\"Parti vert-lib\\u00e9ral\",\"Les Verts\",\"Union D\\u00e9mocratique F\\u00e9d\\u00e9rale\",\"Gr\\u00fcnliberale Partei\",\"Die Mitte\",\"Freisinnig-Demokratische Partei\",\"Schweizerische Volkspartei\",\"Sozialdemokratische Partei\",\"Union D\\u00e9mocratique du Centre\",\"Le Centre\",\"PLR.Les Lib\\u00e9raux-Radicaux\",\"Parti socialiste\",\"Parti vert-lib\\u00e9ral\",\"Les Verts\",\"Union D\\u00e9mocratique F\\u00e9d\\u00e9rale\"],\"line\":{\"color\":\"black\",\"width\":0.5},\"pad\":15,\"thickness\":20},\"type\":\"sankey\"}],                        {\"template\":{\"data\":{\"histogram2dcontour\":[{\"type\":\"histogram2dcontour\",\"colorbar\":{\"outlinewidth\":0,\"ticks\":\"\"},\"colorscale\":[[0.0,\"#0d0887\"],[0.1111111111111111,\"#46039f\"],[0.2222222222222222,\"#7201a8\"],[0.3333333333333333,\"#9c179e\"],[0.4444444444444444,\"#bd3786\"],[0.5555555555555556,\"#d8576b\"],[0.6666666666666666,\"#ed7953\"],[0.7777777777777778,\"#fb9f3a\"],[0.8888888888888888,\"#fdca26\"],[1.0,\"#f0f921\"]]}],\"choropleth\":[{\"type\":\"choropleth\",\"colorbar\":{\"outlinewidth\":0,\"ticks\":\"\"}}],\"histogram2d\":[{\"type\":\"histogram2d\",\"colorbar\":{\"outlinewidth\":0,\"ticks\":\"\"},\"colorscale\":[[0.0,\"#0d0887\"],[0.1111111111111111,\"#46039f\"],[0.2222222222222222,\"#7201a8\"],[0.3333333333333333,\"#9c179e\"],[0.4444444444444444,\"#bd3786\"],[0.5555555555555556,\"#d8576b\"],[0.6666666666666666,\"#ed7953\"],[0.7777777777777778,\"#fb9f3a\"],[0.8888888888888888,\"#fdca26\"],[1.0,\"#f0f921\"]]}],\"heatmap\":[{\"type\":\"heatmap\",\"colorbar\":{\"outlinewidth\":0,\"ticks\":\"\"},\"colorscale\":[[0.0,\"#0d0887\"],[0.1111111111111111,\"#46039f\"],[0.2222222222222222,\"#7201a8\"],[0.3333333333333333,\"#9c179e\"],[0.4444444444444444,\"#bd3786\"],[0.5555555555555556,\"#d8576b\"],[0.6666666666666666,\"#ed7953\"],[0.7777777777777778,\"#fb9f3a\"],[0.8888888888888888,\"#fdca26\"],[1.0,\"#f0f921\"]]}],\"heatmapgl\":[{\"type\":\"heatmapgl\",\"colorbar\":{\"outlinewidth\":0,\"ticks\":\"\"},\"colorscale\":[[0.0,\"#0d0887\"],[0.1111111111111111,\"#46039f\"],[0.2222222222222222,\"#7201a8\"],[0.3333333333333333,\"#9c179e\"],[0.4444444444444444,\"#bd3786\"],[0.5555555555555556,\"#d8576b\"],[0.6666666666666666,\"#ed7953\"],[0.7777777777777778,\"#fb9f3a\"],[0.8888888888888888,\"#fdca26\"],[1.0,\"#f0f921\"]]}],\"contourcarpet\":[{\"type\":\"contourcarpet\",\"colorbar\":{\"outlinewidth\":0,\"ticks\":\"\"}}],\"contour\":[{\"type\":\"contour\",\"colorbar\":{\"outlinewidth\":0,\"ticks\":\"\"},\"colorscale\":[[0.0,\"#0d0887\"],[0.1111111111111111,\"#46039f\"],[0.2222222222222222,\"#7201a8\"],[0.3333333333333333,\"#9c179e\"],[0.4444444444444444,\"#bd3786\"],[0.5555555555555556,\"#d8576b\"],[0.6666666666666666,\"#ed7953\"],[0.7777777777777778,\"#fb9f3a\"],[0.8888888888888888,\"#fdca26\"],[1.0,\"#f0f921\"]]}],\"surface\":[{\"type\":\"surface\",\"colorbar\":{\"outlinewidth\":0,\"ticks\":\"\"},\"colorscale\":[[0.0,\"#0d0887\"],[0.1111111111111111,\"#46039f\"],[0.2222222222222222,\"#7201a8\"],[0.3333333333333333,\"#9c179e\"],[0.4444444444444444,\"#bd3786\"],[0.5555555555555556,\"#d8576b\"],[0.6666666666666666,\"#ed7953\"],[0.7777777777777778,\"#fb9f3a\"],[0.8888888888888888,\"#fdca26\"],[1.0,\"#f0f921\"]]}],\"mesh3d\":[{\"type\":\"mesh3d\",\"colorbar\":{\"outlinewidth\":0,\"ticks\":\"\"}}],\"scatter\":[{\"fillpattern\":{\"fillmode\":\"overlay\",\"size\":10,\"solidity\":0.2},\"type\":\"scatter\"}],\"parcoords\":[{\"type\":\"parcoords\",\"line\":{\"colorbar\":{\"outlinewidth\":0,\"ticks\":\"\"}}}],\"scatterpolargl\":[{\"type\":\"scatterpolargl\",\"marker\":{\"colorbar\":{\"outlinewidth\":0,\"ticks\":\"\"}}}],\"bar\":[{\"error_x\":{\"color\":\"#2a3f5f\"},\"error_y\":{\"color\":\"#2a3f5f\"},\"marker\":{\"line\":{\"color\":\"#E5ECF6\",\"width\":0.5},\"pattern\":{\"fillmode\":\"overlay\",\"size\":10,\"solidity\":0.2}},\"type\":\"bar\"}],\"scattergeo\":[{\"type\":\"scattergeo\",\"marker\":{\"colorbar\":{\"outlinewidth\":0,\"ticks\":\"\"}}}],\"scatterpolar\":[{\"type\":\"scatterpolar\",\"marker\":{\"colorbar\":{\"outlinewidth\":0,\"ticks\":\"\"}}}],\"histogram\":[{\"marker\":{\"pattern\":{\"fillmode\":\"overlay\",\"size\":10,\"solidity\":0.2}},\"type\":\"histogram\"}],\"scattergl\":[{\"type\":\"scattergl\",\"marker\":{\"colorbar\":{\"outlinewidth\":0,\"ticks\":\"\"}}}],\"scatter3d\":[{\"type\":\"scatter3d\",\"line\":{\"colorbar\":{\"outlinewidth\":0,\"ticks\":\"\"}},\"marker\":{\"colorbar\":{\"outlinewidth\":0,\"ticks\":\"\"}}}],\"scattermapbox\":[{\"type\":\"scattermapbox\",\"marker\":{\"colorbar\":{\"outlinewidth\":0,\"ticks\":\"\"}}}],\"scatterternary\":[{\"type\":\"scatterternary\",\"marker\":{\"colorbar\":{\"outlinewidth\":0,\"ticks\":\"\"}}}],\"scattercarpet\":[{\"type\":\"scattercarpet\",\"marker\":{\"colorbar\":{\"outlinewidth\":0,\"ticks\":\"\"}}}],\"carpet\":[{\"aaxis\":{\"endlinecolor\":\"#2a3f5f\",\"gridcolor\":\"white\",\"linecolor\":\"white\",\"minorgridcolor\":\"white\",\"startlinecolor\":\"#2a3f5f\"},\"baxis\":{\"endlinecolor\":\"#2a3f5f\",\"gridcolor\":\"white\",\"linecolor\":\"white\",\"minorgridcolor\":\"white\",\"startlinecolor\":\"#2a3f5f\"},\"type\":\"carpet\"}],\"table\":[{\"cells\":{\"fill\":{\"color\":\"#EBF0F8\"},\"line\":{\"color\":\"white\"}},\"header\":{\"fill\":{\"color\":\"#C8D4E3\"},\"line\":{\"color\":\"white\"}},\"type\":\"table\"}],\"barpolar\":[{\"marker\":{\"line\":{\"color\":\"#E5ECF6\",\"width\":0.5},\"pattern\":{\"fillmode\":\"overlay\",\"size\":10,\"solidity\":0.2}},\"type\":\"barpolar\"}],\"pie\":[{\"automargin\":true,\"type\":\"pie\"}]},\"layout\":{\"autotypenumbers\":\"strict\",\"colorway\":[\"#636efa\",\"#EF553B\",\"#00cc96\",\"#ab63fa\",\"#FFA15A\",\"#19d3f3\",\"#FF6692\",\"#B6E880\",\"#FF97FF\",\"#FECB52\"],\"font\":{\"color\":\"#2a3f5f\"},\"hovermode\":\"closest\",\"hoverlabel\":{\"align\":\"left\"},\"paper_bgcolor\":\"white\",\"plot_bgcolor\":\"#E5ECF6\",\"polar\":{\"bgcolor\":\"#E5ECF6\",\"angularaxis\":{\"gridcolor\":\"white\",\"linecolor\":\"white\",\"ticks\":\"\"},\"radialaxis\":{\"gridcolor\":\"white\",\"linecolor\":\"white\",\"ticks\":\"\"}},\"ternary\":{\"bgcolor\":\"#E5ECF6\",\"aaxis\":{\"gridcolor\":\"white\",\"linecolor\":\"white\",\"ticks\":\"\"},\"baxis\":{\"gridcolor\":\"white\",\"linecolor\":\"white\",\"ticks\":\"\"},\"caxis\":{\"gridcolor\":\"white\",\"linecolor\":\"white\",\"ticks\":\"\"}},\"coloraxis\":{\"colorbar\":{\"outlinewidth\":0,\"ticks\":\"\"}},\"colorscale\":{\"sequential\":[[0.0,\"#0d0887\"],[0.1111111111111111,\"#46039f\"],[0.2222222222222222,\"#7201a8\"],[0.3333333333333333,\"#9c179e\"],[0.4444444444444444,\"#bd3786\"],[0.5555555555555556,\"#d8576b\"],[0.6666666666666666,\"#ed7953\"],[0.7777777777777778,\"#fb9f3a\"],[0.8888888888888888,\"#fdca26\"],[1.0,\"#f0f921\"]],\"sequentialminus\":[[0.0,\"#0d0887\"],[0.1111111111111111,\"#46039f\"],[0.2222222222222222,\"#7201a8\"],[0.3333333333333333,\"#9c179e\"],[0.4444444444444444,\"#bd3786\"],[0.5555555555555556,\"#d8576b\"],[0.6666666666666666,\"#ed7953\"],[0.7777777777777778,\"#fb9f3a\"],[0.8888888888888888,\"#fdca26\"],[1.0,\"#f0f921\"]],\"diverging\":[[0,\"#8e0152\"],[0.1,\"#c51b7d\"],[0.2,\"#de77ae\"],[0.3,\"#f1b6da\"],[0.4,\"#fde0ef\"],[0.5,\"#f7f7f7\"],[0.6,\"#e6f5d0\"],[0.7,\"#b8e186\"],[0.8,\"#7fbc41\"],[0.9,\"#4d9221\"],[1,\"#276419\"]]},\"xaxis\":{\"gridcolor\":\"white\",\"linecolor\":\"white\",\"ticks\":\"\",\"title\":{\"standoff\":15},\"zerolinecolor\":\"white\",\"automargin\":true,\"zerolinewidth\":2},\"yaxis\":{\"gridcolor\":\"white\",\"linecolor\":\"white\",\"ticks\":\"\",\"title\":{\"standoff\":15},\"zerolinecolor\":\"white\",\"automargin\":true,\"zerolinewidth\":2},\"scene\":{\"xaxis\":{\"backgroundcolor\":\"#E5ECF6\",\"gridcolor\":\"white\",\"linecolor\":\"white\",\"showbackground\":true,\"ticks\":\"\",\"zerolinecolor\":\"white\",\"gridwidth\":2},\"yaxis\":{\"backgroundcolor\":\"#E5ECF6\",\"gridcolor\":\"white\",\"linecolor\":\"white\",\"showbackground\":true,\"ticks\":\"\",\"zerolinecolor\":\"white\",\"gridwidth\":2},\"zaxis\":{\"backgroundcolor\":\"#E5ECF6\",\"gridcolor\":\"white\",\"linecolor\":\"white\",\"showbackground\":true,\"ticks\":\"\",\"zerolinecolor\":\"white\",\"gridwidth\":2}},\"shapedefaults\":{\"line\":{\"color\":\"#2a3f5f\"}},\"annotationdefaults\":{\"arrowcolor\":\"#2a3f5f\",\"arrowhead\":0,\"arrowwidth\":1},\"geo\":{\"bgcolor\":\"white\",\"landcolor\":\"#E5ECF6\",\"subunitcolor\":\"white\",\"showland\":true,\"showlakes\":true,\"lakecolor\":\"white\"},\"title\":{\"x\":0.05},\"mapbox\":{\"style\":\"light\"}}},\"title\":{\"text\":\"Link between CHANCE5G and parties\"},\"font\":{\"size\":12,\"color\":\"black\"},\"width\":800,\"height\":600},                        {\"responsive\": true}                    ).then(function(){\n",
       "                            \n",
       "var gd = document.getElementById('ff1e89e5-3a1b-4366-9c4a-5758a78de450');\n",
       "var x = new MutationObserver(function (mutations, observer) {{\n",
       "        var display = window.getComputedStyle(gd).display;\n",
       "        if (!display || display === 'none') {{\n",
       "            console.log([gd, 'removed!']);\n",
       "            Plotly.purge(gd);\n",
       "            observer.disconnect();\n",
       "        }}\n",
       "}});\n",
       "\n",
       "// Listen for the removal of the full notebook cells\n",
       "var notebookContainer = gd.closest('#notebook-container');\n",
       "if (notebookContainer) {{\n",
       "    x.observe(notebookContainer, {childList: true});\n",
       "}}\n",
       "\n",
       "// Listen for the clearing of the current output cell\n",
       "var outputEl = gd.closest('.output');\n",
       "if (outputEl) {{\n",
       "    x.observe(outputEl, {childList: true});\n",
       "}}\n",
       "\n",
       "                        })                };                });            </script>        </div>"
      ]
     },
     "metadata": {},
     "output_type": "display_data"
    }
   ],
   "source": [
    "counter = get_interessen_counter(key)\n",
    "# Define data\n",
    "source = [organisation_dict[key], *counter]\n",
    "target = [*counter]\n",
    "value = [*counter.values()]\n",
    "\n",
    "# Create Sankey diagram\n",
    "fig = go.Figure(data=[go.Sankey(\n",
    "    node=dict(\n",
    "        pad=15,\n",
    "        thickness=20,\n",
    "        line=dict(color=\"black\", width=0.5),\n",
    "        label=source + target,\n",
    "        color=\"blue\"\n",
    "    ),\n",
    "    link=dict(\n",
    "        source=np.zeros(len([*counter])),\n",
    "        target=list(range(1,len([*counter]))),\n",
    "        value=value\n",
    "    )\n",
    ")])\n",
    "\n",
    "# Update layout\n",
    "fig.update_layout(title_text=f\"Link between {organisation_dict[key]} and parties\",\n",
    "                  font=dict(size=12, color=\"black\"),\n",
    "                  width=800, height=600)\n",
    "\n",
    "# Show the plot\n",
    "fig.show()\n"
   ]
  }
 ],
 "metadata": {
  "kernelspec": {
   "display_name": "data_viz",
   "language": "python",
   "name": "python3"
  },
  "language_info": {
   "codemirror_mode": {
    "name": "ipython",
    "version": 3
   },
   "file_extension": ".py",
   "mimetype": "text/x-python",
   "name": "python",
   "nbconvert_exporter": "python",
   "pygments_lexer": "ipython3",
   "version": "3.11.5"
  }
 },
 "nbformat": 4,
 "nbformat_minor": 2
}
